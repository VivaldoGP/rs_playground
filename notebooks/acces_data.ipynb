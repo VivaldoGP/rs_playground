{
 "cells": [
  {
   "cell_type": "markdown",
   "id": "730bd49b-7066-4edb-8d1c-ed59c167524a",
   "metadata": {},
   "source": [
    "# Acceder a las imágenes"
   ]
  },
  {
   "cell_type": "markdown",
   "id": "02bfb866-dbb9-400d-b201-a60e480d96fd",
   "metadata": {},
   "source": [
    "La primera opción a tratar es acceder al catalogo de copernicus a través de la api de openeo, para esto es necesario una cuenta y contar con las credenciales necesarias."
   ]
  },
  {
   "cell_type": "markdown",
   "id": "eb692c56-619a-49ad-aad7-e2ed9a26a528",
   "metadata": {},
   "source": [
    "## Librerías"
   ]
  },
  {
   "cell_type": "code",
   "execution_count": 13,
   "id": "b7aca901-774f-48c0-9f5b-878a7c8dfe49",
   "metadata": {},
   "outputs": [],
   "source": [
    "from os import getenv\n",
    "import openeo\n",
    "from dotenv import load_dotenv\n",
    "import json\n",
    "from datetime import datetime, timedelta"
   ]
  },
  {
   "cell_type": "markdown",
   "id": "675c9b80-4d2c-47e1-a4e1-5278c8dc0455",
   "metadata": {},
   "source": [
    "## Credenciales"
   ]
  },
  {
   "cell_type": "code",
   "execution_count": 4,
   "id": "f810e185-af6c-4640-8c5b-07126c40b44d",
   "metadata": {},
   "outputs": [
    {
     "data": {
      "text/plain": [
       "True"
      ]
     },
     "execution_count": 4,
     "metadata": {},
     "output_type": "execute_result"
    }
   ],
   "source": [
    "load_dotenv()"
   ]
  },
  {
   "cell_type": "code",
   "execution_count": 5,
   "id": "801b3469-f13f-4b60-b742-46b0ee4c64ee",
   "metadata": {},
   "outputs": [],
   "source": [
    "connection = openeo.connect(\"openeo.dataspace.copernicus.eu\")"
   ]
  },
  {
   "cell_type": "code",
   "execution_count": 8,
   "id": "bf4be5d2-9f35-4767-affa-12664c1fc769",
   "metadata": {},
   "outputs": [
    {
     "data": {
      "text/plain": [
       "<Connection to 'https://openeo.dataspace.copernicus.eu/openeo/1.2/' with OidcBearerAuth>"
      ]
     },
     "execution_count": 8,
     "metadata": {},
     "output_type": "execute_result"
    }
   ],
   "source": [
    "connection.authenticate_oidc_client_credentials(\n",
    "    client_id=getenv('client_id'),\n",
    "    client_secret=getenv('client_secret')\n",
    ")"
   ]
  },
  {
   "cell_type": "markdown",
   "id": "e6ea00dd-bdf8-4ce0-aaa8-ecf8866c1c96",
   "metadata": {},
   "source": [
    "## Metadatos de misión sentinel 2"
   ]
  },
  {
   "cell_type": "code",
   "execution_count": 9,
   "id": "8a7278db-7b55-4ce3-85e6-8d12ffcc0923",
   "metadata": {
    "collapsed": true,
    "jupyter": {
     "outputs_hidden": true
    }
   },
   "outputs": [
    {
     "data": {
      "text/html": [
       "\n",
       "    <script>\n",
       "    if (!window.customElements || !window.customElements.get('openeo-collection')) {\n",
       "        var el = document.createElement('script');\n",
       "        el.src = \"https://cdn.jsdelivr.net/npm/@openeo/vue-components@2/assets/openeo.min.js\";\n",
       "        document.head.appendChild(el);\n",
       "\n",
       "        var font = document.createElement('font');\n",
       "        font.as = \"font\";\n",
       "        font.type = \"font/woff2\";\n",
       "        font.crossOrigin = true;\n",
       "        font.href = \"https://use.fontawesome.com/releases/v5.13.0/webfonts/fa-solid-900.woff2\"\n",
       "        document.head.appendChild(font);\n",
       "    }\n",
       "    </script>\n",
       "    <openeo-collection>\n",
       "        <script type=\"application/json\">{\"mapOptions\": {}, \"data\": {\"assets\": {\"thumbnail\": {\"href\": \"https://www.esa.int/var/esa/storage/images/esa_multimedia/images/2022/07/tallinn_estonia/24383281-1-eng-GB/Tallinn_Estonia_pillars.jpg\", \"roles\": [\"thumbnail\"], \"title\": \"Sentinel 2 L2A\", \"type\": \"image/png\"}}, \"cube:dimensions\": {\"bands\": {\"type\": \"bands\", \"values\": [\"B01\", \"B02\", \"B03\", \"B04\", \"B05\", \"B06\", \"B07\", \"B08\", \"B8A\", \"B09\", \"B11\", \"B12\", \"WVP\", \"AOT\", \"SCL\", \"sunAzimuthAngles\", \"sunZenithAngles\", \"viewAzimuthMean\", \"viewZenithMean\"]}, \"t\": {\"extent\": [\"2015-07-04T00:00:00Z\", null], \"type\": \"temporal\"}, \"x\": {\"axis\": \"x\", \"extent\": [-180, 180], \"reference_system\": {\"$schema\": \"https://proj.org/schemas/v0.2/projjson.schema.json\", \"area\": \"World\", \"bbox\": {\"east_longitude\": 180, \"north_latitude\": 90, \"south_latitude\": -90, \"west_longitude\": -180}, \"coordinate_system\": {\"axis\": [{\"abbreviation\": \"Lat\", \"direction\": \"north\", \"name\": \"Geodetic latitude\", \"unit\": \"degree\"}, {\"abbreviation\": \"Lon\", \"direction\": \"east\", \"name\": \"Geodetic longitude\", \"unit\": \"degree\"}], \"subtype\": \"ellipsoidal\"}, \"datum\": {\"ellipsoid\": {\"inverse_flattening\": 298.257223563, \"name\": \"WGS 84\", \"semi_major_axis\": 6378137}, \"name\": \"World Geodetic System 1984\", \"type\": \"GeodeticReferenceFrame\"}, \"id\": {\"authority\": \"OGC\", \"code\": \"Auto42001\", \"version\": \"1.3\"}, \"name\": \"AUTO 42001 (Universal Transverse Mercator)\", \"type\": \"GeodeticCRS\"}, \"step\": 10, \"type\": \"spatial\"}, \"y\": {\"axis\": \"y\", \"extent\": [-56, 83], \"reference_system\": {\"$schema\": \"https://proj.org/schemas/v0.2/projjson.schema.json\", \"area\": \"World\", \"bbox\": {\"east_longitude\": 180, \"north_latitude\": 90, \"south_latitude\": -90, \"west_longitude\": -180}, \"coordinate_system\": {\"axis\": [{\"abbreviation\": \"Lat\", \"direction\": \"north\", \"name\": \"Geodetic latitude\", \"unit\": \"degree\"}, {\"abbreviation\": \"Lon\", \"direction\": \"east\", \"name\": \"Geodetic longitude\", \"unit\": \"degree\"}], \"subtype\": \"ellipsoidal\"}, \"datum\": {\"ellipsoid\": {\"inverse_flattening\": 298.257223563, \"name\": \"WGS 84\", \"semi_major_axis\": 6378137}, \"name\": \"World Geodetic System 1984\", \"type\": \"GeodeticReferenceFrame\"}, \"id\": {\"authority\": \"OGC\", \"code\": \"Auto42001\", \"version\": \"1.3\"}, \"name\": \"AUTO 42001 (Universal Transverse Mercator)\", \"type\": \"GeodeticCRS\"}, \"step\": 10, \"type\": \"spatial\"}}, \"description\": \"SENTINEL-2 is a wide-swath, high-resolution, multi-spectral imaging mission, supporting Copernicus Land Monitoring studies, including the monitoring of vegetation, soil and water cover, as well as observation of inland waterways and coastal areas. The SENTINEL-2 Multispectral Instrument (MSI) samples 13 spectral bands: four bands at 10 metres, six bands at 20 metres and three bands at 60 metres spatial resolution.\\n The level 2A data is atmospherically corrected using Sen2Cor.\", \"extent\": {\"spatial\": {\"bbox\": [[-180, -56, 180, 83]]}, \"temporal\": {\"interval\": [[\"2015-07-04T00:00:00Z\", null]]}}, \"id\": \"SENTINEL2_L2A\", \"keywords\": [\"COPERNICUS\", \"ESA\", \"Orthoimagery\", \"Sentinel-2\", \"MSI\", \"Level-2A\", \"Radiometry\", \"Plant Resource\", \"TOC\"], \"license\": \"proprietary\", \"links\": [{\"href\": \"https://sentinels.copernicus.eu/documents/247904/690755/Sentinel_Data_Legal_Notice\", \"rel\": \"license\", \"type\": \"application/pdf\"}, {\"href\": \"https://documentation.dataspace.copernicus.eu/Data/SentinelMissions/Sentinel2.html#sentinel-2-level-2a-top-of-canopy-toc\", \"rel\": \"alternate\", \"type\": \"application/html\"}, {\"href\": \"https://dataspace.copernicus.eu/browser/?zoom=11&lat=45.36638&lng=12.49832&themeId=DEFAULT-THEME&visualizationUrl=https%3A%2F%2Fsh.dataspace.copernicus.eu%2Fogc%2Fwms%2F28b654e7-8912-4e59-9e58-85b58d768b3a&datasetId=S2_L2A_CDAS&fromTime=2023-02-07T00%3A00%3A00.000Z&toTime=2023-02-07T23%3A59%3A59.999Z&layerId=1_TRUE_COLOR&demSource3D=%22MAPZEN%22&cloudCoverage=10\", \"rel\": \"browser\", \"title\": \"CDSE Data-Browser\"}, {\"href\": \"https://catalogue.dataspace.copernicus.eu/resto/api/collections/Sentinel2/search.json?cloudCover=[0,10]&productType=S2MSI2A&startDate=2022-06-11&completionDate=2022-06-22&maxRecords=10\", \"rel\": \"opensearch\", \"title\": \"Opensearch product query\"}, {\"href\": \"https://sentinels.copernicus.eu/web/sentinel/user-guides/sentinel-2-msi/product-types/level-2a\", \"rel\": \"about\", \"title\": \"User guide\"}, {\"href\": \"https://services.sentinel-hub.com/ogc/wmts/7d34803f-511c-4caf-9438-6d72f32c8174\", \"rel\": \"wmts\", \"title\": \"Web Map Tile Service\", \"wmts:dimensions\": {\"warnings\": true}, \"wmts:layer\": \"TRUE-COLOR\"}, {\"href\": \"https://openeo.dataspace.copernicus.eu/openeo/1.2/collections\", \"rel\": \"root\"}, {\"href\": \"https://openeo.dataspace.copernicus.eu/openeo/1.2/collections\", \"rel\": \"parent\"}, {\"href\": \"https://openeo.dataspace.copernicus.eu/openeo/1.2/collections/SENTINEL2_L2A\", \"rel\": \"self\"}], \"mission\": \"Sentinel-2\", \"name\": \"SENTINEL2_L2A\", \"providers\": [{\"name\": \"ESA\", \"roles\": [\"producer\"], \"url\": \"https://esa.int/\"}, {\"name\": \"CDSE\", \"roles\": [\"processor\", \"host\"], \"url\": \"https://dataspace.copernicus.eu/\"}], \"stac_extensions\": [\"https://stac-extensions.github.io/datacube/v2.2.0/schema.json\", \"https://stac-extensions.github.io/eo/v1.1.0/schema.json\"], \"stac_version\": \"0.9.0\", \"summaries\": {\"constellation\": [\"sentinel-2\"], \"eo:bands\": [{\"aliases\": [\"IMG_DATA_Band_B01_60m_Tile1_Data\"], \"center_wavelength\": 0.4427, \"common_name\": \"coastal\", \"full_width_half_max\": 0.021, \"gsd\": 60, \"name\": \"B01\", \"offset\": 0, \"scale\": 0.0001, \"type\": \"int16\", \"unit\": \"1\"}, {\"aliases\": [\"IMG_DATA_Band_B02_10m_Tile1_Data\"], \"center_wavelength\": 0.4924, \"common_name\": \"blue\", \"full_width_half_max\": 0.066, \"gsd\": 10, \"name\": \"B02\", \"offset\": 0, \"scale\": 0.0001, \"type\": \"int16\", \"unit\": \"1\"}, {\"aliases\": [\"IMG_DATA_Band_B03_10m_Tile1_Data\"], \"center_wavelength\": 0.5598, \"common_name\": \"green\", \"full_width_half_max\": 0.036, \"gsd\": 10, \"name\": \"B03\", \"offset\": 0, \"scale\": 0.0001, \"type\": \"int16\", \"unit\": \"1\"}, {\"aliases\": [\"IMG_DATA_Band_B04_10m_Tile1_Data\"], \"center_wavelength\": 0.6646, \"common_name\": \"red\", \"full_width_half_max\": 0.031, \"gsd\": 10, \"name\": \"B04\", \"offset\": 0, \"scale\": 0.0001, \"type\": \"int16\", \"unit\": \"1\"}, {\"aliases\": [\"IMG_DATA_Band_B05_20m_Tile1_Data\"], \"center_wavelength\": 0.7041, \"full_width_half_max\": 0.015, \"gsd\": 20, \"name\": \"B05\", \"offset\": 0, \"scale\": 0.0001, \"type\": \"int16\", \"unit\": \"1\"}, {\"aliases\": [\"IMG_DATA_Band_B06_20m_Tile1_Data\"], \"center_wavelength\": 0.7405, \"full_width_half_max\": 0.015, \"gsd\": 20, \"name\": \"B06\", \"offset\": 0, \"scale\": 0.0001, \"type\": \"int16\", \"unit\": \"1\"}, {\"aliases\": [\"IMG_DATA_Band_B07_20m_Tile1_Data\"], \"center_wavelength\": 0.7828, \"full_width_half_max\": 0.02, \"gsd\": 20, \"name\": \"B07\", \"offset\": 0, \"scale\": 0.0001, \"type\": \"int16\", \"unit\": \"1\"}, {\"aliases\": [\"IMG_DATA_Band_B08_10m_Tile1_Data\"], \"center_wavelength\": 0.8328, \"common_name\": \"nir\", \"full_width_half_max\": 0.106, \"gsd\": 10, \"name\": \"B08\", \"offset\": 0, \"scale\": 0.0001, \"type\": \"int16\", \"unit\": \"1\"}, {\"aliases\": [\"IMG_DATA_Band_B8A_20m_Tile1_Data\"], \"center_wavelength\": 0.8647, \"common_name\": \"nir08\", \"full_width_half_max\": 0.021, \"gsd\": 20, \"name\": \"B8A\", \"offset\": 0, \"scale\": 0.0001, \"type\": \"int16\", \"unit\": \"1\"}, {\"aliases\": [\"IMG_DATA_Band_B09_60m_Tile1_Data\"], \"center_wavelength\": 0.9451, \"common_name\": \"nir09\", \"full_width_half_max\": 0.02, \"gsd\": 60, \"name\": \"B09\", \"offset\": 0, \"scale\": 0.0001, \"type\": \"int16\", \"unit\": \"1\"}, {\"aliases\": [\"IMG_DATA_Band_B11_20m_Tile1_Data\"], \"center_wavelength\": 1.6137, \"common_name\": \"swir16\", \"full_width_half_max\": 0.091, \"gsd\": 20, \"name\": \"B11\", \"offset\": 0, \"scale\": 0.0001, \"type\": \"int16\", \"unit\": \"1\"}, {\"aliases\": [\"IMG_DATA_Band_B12_20m_Tile1_Data\"], \"center_wavelength\": 2.2024, \"common_name\": \"swir22\", \"full_width_half_max\": 0.175, \"gsd\": 20, \"name\": \"B12\", \"offset\": 0, \"scale\": 0.0001, \"type\": \"int16\", \"unit\": \"1\"}, {\"aliases\": [\"IMG_DATA_Band_WVP_10m_Tile1_Data\"], \"name\": \"WVP\"}, {\"aliases\": [\"IMG_DATA_Band_AOT_20m_Tile1_Data\"], \"name\": \"AOT\"}, {\"aliases\": [\"IMG_DATA_Band_SCL_20m_Tile1_Data\"], \"gsd\": 20, \"name\": \"SCL\"}, {\"aliases\": [\"S2_Level-2A_Tile1_Metadata##0\", \"SAA\"], \"name\": \"sunAzimuthAngles\", \"unit\": \"deg\"}, {\"aliases\": [\"S2_Level-2A_Tile1_Metadata##1\", \"SZA\"], \"name\": \"sunZenithAngles\", \"unit\": \"deg\"}, {\"aliases\": [\"S2_Level-2A_Tile1_Metadata##2\", \"VAA\", \"approximateViewAzimuth\"], \"name\": \"viewAzimuthMean\", \"unit\": \"deg\"}, {\"aliases\": [\"S2_Level-2A_Tile1_Metadata##3\", \"VZA\", \"approximateViewZenith\"], \"name\": \"viewZenithMean\", \"unit\": \"deg\"}], \"eo:cloud_cover\": {\"maximum\": 100, \"minimum\": 0}, \"gsd\": [10], \"instrument\": [\"msi\"], \"platform\": [\"sentinel-2a\", \"sentinel-2b\"], \"productIdentifier\": {}}, \"title\": \"Sentinel-2 L2A\"}}</script>\n",
       "    </openeo-collection>\n",
       "    "
      ],
      "text/plain": [
       "{'assets': {'thumbnail': {'href': 'https://www.esa.int/var/esa/storage/images/esa_multimedia/images/2022/07/tallinn_estonia/24383281-1-eng-GB/Tallinn_Estonia_pillars.jpg',\n",
       "   'roles': ['thumbnail'],\n",
       "   'title': 'Sentinel 2 L2A',\n",
       "   'type': 'image/png'}},\n",
       " 'cube:dimensions': {'bands': {'type': 'bands',\n",
       "   'values': ['B01',\n",
       "    'B02',\n",
       "    'B03',\n",
       "    'B04',\n",
       "    'B05',\n",
       "    'B06',\n",
       "    'B07',\n",
       "    'B08',\n",
       "    'B8A',\n",
       "    'B09',\n",
       "    'B11',\n",
       "    'B12',\n",
       "    'WVP',\n",
       "    'AOT',\n",
       "    'SCL',\n",
       "    'sunAzimuthAngles',\n",
       "    'sunZenithAngles',\n",
       "    'viewAzimuthMean',\n",
       "    'viewZenithMean']},\n",
       "  't': {'extent': ['2015-07-04T00:00:00Z', None], 'type': 'temporal'},\n",
       "  'x': {'axis': 'x',\n",
       "   'extent': [-180, 180],\n",
       "   'reference_system': {'$schema': 'https://proj.org/schemas/v0.2/projjson.schema.json',\n",
       "    'area': 'World',\n",
       "    'bbox': {'east_longitude': 180,\n",
       "     'north_latitude': 90,\n",
       "     'south_latitude': -90,\n",
       "     'west_longitude': -180},\n",
       "    'coordinate_system': {'axis': [{'abbreviation': 'Lat',\n",
       "       'direction': 'north',\n",
       "       'name': 'Geodetic latitude',\n",
       "       'unit': 'degree'},\n",
       "      {'abbreviation': 'Lon',\n",
       "       'direction': 'east',\n",
       "       'name': 'Geodetic longitude',\n",
       "       'unit': 'degree'}],\n",
       "     'subtype': 'ellipsoidal'},\n",
       "    'datum': {'ellipsoid': {'inverse_flattening': 298.257223563,\n",
       "      'name': 'WGS 84',\n",
       "      'semi_major_axis': 6378137},\n",
       "     'name': 'World Geodetic System 1984',\n",
       "     'type': 'GeodeticReferenceFrame'},\n",
       "    'id': {'authority': 'OGC', 'code': 'Auto42001', 'version': '1.3'},\n",
       "    'name': 'AUTO 42001 (Universal Transverse Mercator)',\n",
       "    'type': 'GeodeticCRS'},\n",
       "   'step': 10,\n",
       "   'type': 'spatial'},\n",
       "  'y': {'axis': 'y',\n",
       "   'extent': [-56, 83],\n",
       "   'reference_system': {'$schema': 'https://proj.org/schemas/v0.2/projjson.schema.json',\n",
       "    'area': 'World',\n",
       "    'bbox': {'east_longitude': 180,\n",
       "     'north_latitude': 90,\n",
       "     'south_latitude': -90,\n",
       "     'west_longitude': -180},\n",
       "    'coordinate_system': {'axis': [{'abbreviation': 'Lat',\n",
       "       'direction': 'north',\n",
       "       'name': 'Geodetic latitude',\n",
       "       'unit': 'degree'},\n",
       "      {'abbreviation': 'Lon',\n",
       "       'direction': 'east',\n",
       "       'name': 'Geodetic longitude',\n",
       "       'unit': 'degree'}],\n",
       "     'subtype': 'ellipsoidal'},\n",
       "    'datum': {'ellipsoid': {'inverse_flattening': 298.257223563,\n",
       "      'name': 'WGS 84',\n",
       "      'semi_major_axis': 6378137},\n",
       "     'name': 'World Geodetic System 1984',\n",
       "     'type': 'GeodeticReferenceFrame'},\n",
       "    'id': {'authority': 'OGC', 'code': 'Auto42001', 'version': '1.3'},\n",
       "    'name': 'AUTO 42001 (Universal Transverse Mercator)',\n",
       "    'type': 'GeodeticCRS'},\n",
       "   'step': 10,\n",
       "   'type': 'spatial'}},\n",
       " 'description': 'SENTINEL-2 is a wide-swath, high-resolution, multi-spectral imaging mission, supporting Copernicus Land Monitoring studies, including the monitoring of vegetation, soil and water cover, as well as observation of inland waterways and coastal areas. The SENTINEL-2 Multispectral Instrument (MSI) samples 13 spectral bands: four bands at 10 metres, six bands at 20 metres and three bands at 60 metres spatial resolution.\\n The level 2A data is atmospherically corrected using Sen2Cor.',\n",
       " 'extent': {'spatial': {'bbox': [[-180, -56, 180, 83]]},\n",
       "  'temporal': {'interval': [['2015-07-04T00:00:00Z', None]]}},\n",
       " 'id': 'SENTINEL2_L2A',\n",
       " 'keywords': ['COPERNICUS',\n",
       "  'ESA',\n",
       "  'Orthoimagery',\n",
       "  'Sentinel-2',\n",
       "  'MSI',\n",
       "  'Level-2A',\n",
       "  'Radiometry',\n",
       "  'Plant Resource',\n",
       "  'TOC'],\n",
       " 'license': 'proprietary',\n",
       " 'links': [{'href': 'https://sentinels.copernicus.eu/documents/247904/690755/Sentinel_Data_Legal_Notice',\n",
       "   'rel': 'license',\n",
       "   'type': 'application/pdf'},\n",
       "  {'href': 'https://documentation.dataspace.copernicus.eu/Data/SentinelMissions/Sentinel2.html#sentinel-2-level-2a-top-of-canopy-toc',\n",
       "   'rel': 'alternate',\n",
       "   'type': 'application/html'},\n",
       "  {'href': 'https://dataspace.copernicus.eu/browser/?zoom=11&lat=45.36638&lng=12.49832&themeId=DEFAULT-THEME&visualizationUrl=https%3A%2F%2Fsh.dataspace.copernicus.eu%2Fogc%2Fwms%2F28b654e7-8912-4e59-9e58-85b58d768b3a&datasetId=S2_L2A_CDAS&fromTime=2023-02-07T00%3A00%3A00.000Z&toTime=2023-02-07T23%3A59%3A59.999Z&layerId=1_TRUE_COLOR&demSource3D=%22MAPZEN%22&cloudCoverage=10',\n",
       "   'rel': 'browser',\n",
       "   'title': 'CDSE Data-Browser'},\n",
       "  {'href': 'https://catalogue.dataspace.copernicus.eu/resto/api/collections/Sentinel2/search.json?cloudCover=[0,10]&productType=S2MSI2A&startDate=2022-06-11&completionDate=2022-06-22&maxRecords=10',\n",
       "   'rel': 'opensearch',\n",
       "   'title': 'Opensearch product query'},\n",
       "  {'href': 'https://sentinels.copernicus.eu/web/sentinel/user-guides/sentinel-2-msi/product-types/level-2a',\n",
       "   'rel': 'about',\n",
       "   'title': 'User guide'},\n",
       "  {'href': 'https://services.sentinel-hub.com/ogc/wmts/7d34803f-511c-4caf-9438-6d72f32c8174',\n",
       "   'rel': 'wmts',\n",
       "   'title': 'Web Map Tile Service',\n",
       "   'wmts:dimensions': {'warnings': True},\n",
       "   'wmts:layer': 'TRUE-COLOR'},\n",
       "  {'href': 'https://openeo.dataspace.copernicus.eu/openeo/1.2/collections',\n",
       "   'rel': 'root'},\n",
       "  {'href': 'https://openeo.dataspace.copernicus.eu/openeo/1.2/collections',\n",
       "   'rel': 'parent'},\n",
       "  {'href': 'https://openeo.dataspace.copernicus.eu/openeo/1.2/collections/SENTINEL2_L2A',\n",
       "   'rel': 'self'}],\n",
       " 'mission': 'Sentinel-2',\n",
       " 'name': 'SENTINEL2_L2A',\n",
       " 'providers': [{'name': 'ESA',\n",
       "   'roles': ['producer'],\n",
       "   'url': 'https://esa.int/'},\n",
       "  {'name': 'CDSE',\n",
       "   'roles': ['processor', 'host'],\n",
       "   'url': 'https://dataspace.copernicus.eu/'}],\n",
       " 'stac_extensions': ['https://stac-extensions.github.io/datacube/v2.2.0/schema.json',\n",
       "  'https://stac-extensions.github.io/eo/v1.1.0/schema.json'],\n",
       " 'stac_version': '0.9.0',\n",
       " 'summaries': {'constellation': ['sentinel-2'],\n",
       "  'eo:bands': [{'aliases': ['IMG_DATA_Band_B01_60m_Tile1_Data'],\n",
       "    'center_wavelength': 0.4427,\n",
       "    'common_name': 'coastal',\n",
       "    'full_width_half_max': 0.021,\n",
       "    'gsd': 60,\n",
       "    'name': 'B01',\n",
       "    'offset': 0,\n",
       "    'scale': 0.0001,\n",
       "    'type': 'int16',\n",
       "    'unit': '1'},\n",
       "   {'aliases': ['IMG_DATA_Band_B02_10m_Tile1_Data'],\n",
       "    'center_wavelength': 0.4924,\n",
       "    'common_name': 'blue',\n",
       "    'full_width_half_max': 0.066,\n",
       "    'gsd': 10,\n",
       "    'name': 'B02',\n",
       "    'offset': 0,\n",
       "    'scale': 0.0001,\n",
       "    'type': 'int16',\n",
       "    'unit': '1'},\n",
       "   {'aliases': ['IMG_DATA_Band_B03_10m_Tile1_Data'],\n",
       "    'center_wavelength': 0.5598,\n",
       "    'common_name': 'green',\n",
       "    'full_width_half_max': 0.036,\n",
       "    'gsd': 10,\n",
       "    'name': 'B03',\n",
       "    'offset': 0,\n",
       "    'scale': 0.0001,\n",
       "    'type': 'int16',\n",
       "    'unit': '1'},\n",
       "   {'aliases': ['IMG_DATA_Band_B04_10m_Tile1_Data'],\n",
       "    'center_wavelength': 0.6646,\n",
       "    'common_name': 'red',\n",
       "    'full_width_half_max': 0.031,\n",
       "    'gsd': 10,\n",
       "    'name': 'B04',\n",
       "    'offset': 0,\n",
       "    'scale': 0.0001,\n",
       "    'type': 'int16',\n",
       "    'unit': '1'},\n",
       "   {'aliases': ['IMG_DATA_Band_B05_20m_Tile1_Data'],\n",
       "    'center_wavelength': 0.7041,\n",
       "    'full_width_half_max': 0.015,\n",
       "    'gsd': 20,\n",
       "    'name': 'B05',\n",
       "    'offset': 0,\n",
       "    'scale': 0.0001,\n",
       "    'type': 'int16',\n",
       "    'unit': '1'},\n",
       "   {'aliases': ['IMG_DATA_Band_B06_20m_Tile1_Data'],\n",
       "    'center_wavelength': 0.7405,\n",
       "    'full_width_half_max': 0.015,\n",
       "    'gsd': 20,\n",
       "    'name': 'B06',\n",
       "    'offset': 0,\n",
       "    'scale': 0.0001,\n",
       "    'type': 'int16',\n",
       "    'unit': '1'},\n",
       "   {'aliases': ['IMG_DATA_Band_B07_20m_Tile1_Data'],\n",
       "    'center_wavelength': 0.7828,\n",
       "    'full_width_half_max': 0.02,\n",
       "    'gsd': 20,\n",
       "    'name': 'B07',\n",
       "    'offset': 0,\n",
       "    'scale': 0.0001,\n",
       "    'type': 'int16',\n",
       "    'unit': '1'},\n",
       "   {'aliases': ['IMG_DATA_Band_B08_10m_Tile1_Data'],\n",
       "    'center_wavelength': 0.8328,\n",
       "    'common_name': 'nir',\n",
       "    'full_width_half_max': 0.106,\n",
       "    'gsd': 10,\n",
       "    'name': 'B08',\n",
       "    'offset': 0,\n",
       "    'scale': 0.0001,\n",
       "    'type': 'int16',\n",
       "    'unit': '1'},\n",
       "   {'aliases': ['IMG_DATA_Band_B8A_20m_Tile1_Data'],\n",
       "    'center_wavelength': 0.8647,\n",
       "    'common_name': 'nir08',\n",
       "    'full_width_half_max': 0.021,\n",
       "    'gsd': 20,\n",
       "    'name': 'B8A',\n",
       "    'offset': 0,\n",
       "    'scale': 0.0001,\n",
       "    'type': 'int16',\n",
       "    'unit': '1'},\n",
       "   {'aliases': ['IMG_DATA_Band_B09_60m_Tile1_Data'],\n",
       "    'center_wavelength': 0.9451,\n",
       "    'common_name': 'nir09',\n",
       "    'full_width_half_max': 0.02,\n",
       "    'gsd': 60,\n",
       "    'name': 'B09',\n",
       "    'offset': 0,\n",
       "    'scale': 0.0001,\n",
       "    'type': 'int16',\n",
       "    'unit': '1'},\n",
       "   {'aliases': ['IMG_DATA_Band_B11_20m_Tile1_Data'],\n",
       "    'center_wavelength': 1.6137,\n",
       "    'common_name': 'swir16',\n",
       "    'full_width_half_max': 0.091,\n",
       "    'gsd': 20,\n",
       "    'name': 'B11',\n",
       "    'offset': 0,\n",
       "    'scale': 0.0001,\n",
       "    'type': 'int16',\n",
       "    'unit': '1'},\n",
       "   {'aliases': ['IMG_DATA_Band_B12_20m_Tile1_Data'],\n",
       "    'center_wavelength': 2.2024,\n",
       "    'common_name': 'swir22',\n",
       "    'full_width_half_max': 0.175,\n",
       "    'gsd': 20,\n",
       "    'name': 'B12',\n",
       "    'offset': 0,\n",
       "    'scale': 0.0001,\n",
       "    'type': 'int16',\n",
       "    'unit': '1'},\n",
       "   {'aliases': ['IMG_DATA_Band_WVP_10m_Tile1_Data'], 'name': 'WVP'},\n",
       "   {'aliases': ['IMG_DATA_Band_AOT_20m_Tile1_Data'], 'name': 'AOT'},\n",
       "   {'aliases': ['IMG_DATA_Band_SCL_20m_Tile1_Data'], 'gsd': 20, 'name': 'SCL'},\n",
       "   {'aliases': ['S2_Level-2A_Tile1_Metadata##0', 'SAA'],\n",
       "    'name': 'sunAzimuthAngles',\n",
       "    'unit': 'deg'},\n",
       "   {'aliases': ['S2_Level-2A_Tile1_Metadata##1', 'SZA'],\n",
       "    'name': 'sunZenithAngles',\n",
       "    'unit': 'deg'},\n",
       "   {'aliases': ['S2_Level-2A_Tile1_Metadata##2',\n",
       "     'VAA',\n",
       "     'approximateViewAzimuth'],\n",
       "    'name': 'viewAzimuthMean',\n",
       "    'unit': 'deg'},\n",
       "   {'aliases': ['S2_Level-2A_Tile1_Metadata##3',\n",
       "     'VZA',\n",
       "     'approximateViewZenith'],\n",
       "    'name': 'viewZenithMean',\n",
       "    'unit': 'deg'}],\n",
       "  'eo:cloud_cover': {'maximum': 100, 'minimum': 0},\n",
       "  'gsd': [10],\n",
       "  'instrument': ['msi'],\n",
       "  'platform': ['sentinel-2a', 'sentinel-2b'],\n",
       "  'productIdentifier': {}},\n",
       " 'title': 'Sentinel-2 L2A'}"
      ]
     },
     "execution_count": 9,
     "metadata": {},
     "output_type": "execute_result"
    }
   ],
   "source": [
    "connection.describe_collection(\"SENTINEL2_L2A\")"
   ]
  },
  {
   "cell_type": "markdown",
   "id": "78aab698-f4ee-493e-91cd-64071afc4a39",
   "metadata": {},
   "source": [
    "## AOI"
   ]
  },
  {
   "cell_type": "code",
   "execution_count": 11,
   "id": "51e71f37-3748-4a7f-82f0-97b5c8b0ddbe",
   "metadata": {},
   "outputs": [],
   "source": [
    "with open('../aux_data/rancho_poli.geojson', mode='r') as f:\n",
    "    aoi = json.load(f)"
   ]
  },
  {
   "cell_type": "code",
   "execution_count": 12,
   "id": "a924230e-802e-4c3a-9168-49f7890a6561",
   "metadata": {},
   "outputs": [
    {
     "data": {
      "text/plain": [
       "{'type': 'FeatureCollection',\n",
       " 'features': [{'type': 'Feature',\n",
       "   'properties': {},\n",
       "   'geometry': {'coordinates': [[[-99.00534212718226, 22.785716601032192],\n",
       "      [-99.00206842443339, 22.785217937339795],\n",
       "      [-99.00247509558227, 22.786830151718775],\n",
       "      [-99.00379677681649, 22.786886391411585],\n",
       "      [-99.00534212718226, 22.785716601032192]]],\n",
       "    'type': 'Polygon'}}]}"
      ]
     },
     "execution_count": 12,
     "metadata": {},
     "output_type": "execute_result"
    }
   ],
   "source": [
    "aoi"
   ]
  },
  {
   "cell_type": "markdown",
   "id": "3152cdff-1cab-4db8-b2c6-e5803e632e52",
   "metadata": {},
   "source": [
    "## Filtro temporal"
   ]
  },
  {
   "cell_type": "code",
   "execution_count": 25,
   "id": "c12fcc2b-57f2-414f-b4bc-42ace3a4e86d",
   "metadata": {},
   "outputs": [],
   "source": [
    "today = datetime.now()\n",
    "five_days_ago = today - timedelta(days=5)"
   ]
  },
  {
   "cell_type": "code",
   "execution_count": 26,
   "id": "d5544e3b-eca9-4674-8398-8a405cf7e7d6",
   "metadata": {},
   "outputs": [],
   "source": [
    "today_formatted = today.strftime(\"%Y-%m-%d\")\n",
    "five_days_ago_formatted = five_days_ago.strftime(\"%Y-%m-%d\")"
   ]
  },
  {
   "cell_type": "markdown",
   "id": "265d829a-4d48-47d0-ac16-b1c4422cdcf7",
   "metadata": {},
   "source": [
    "## Colección"
   ]
  },
  {
   "cell_type": "markdown",
   "id": "02990df8-bd05-404b-84a5-fc51488134ab",
   "metadata": {},
   "source": [
    "La colección es un cubo de datos formado por diferentes parámetros, los cuales ya fueron definidos anteriormente."
   ]
  },
  {
   "cell_type": "code",
   "execution_count": 38,
   "id": "ad1811f3-9e28-4388-b32b-a43f2b66f450",
   "metadata": {},
   "outputs": [],
   "source": [
    "datacube = connection.load_collection(\n",
    "    collection_id = \"SENTINEL2_L2A\",\n",
    "    spatial_extent = aoi,\n",
    "    temporal_extent = ['2025-01-01', today_formatted],\n",
    "    bands = [\"B04\", \"B03\", \"B02\"]\n",
    ")"
   ]
  },
  {
   "cell_type": "code",
   "execution_count": 39,
   "id": "3e5a9abb-abdd-4239-b97c-12d82a0619e9",
   "metadata": {},
   "outputs": [],
   "source": [
    "datacube.download('../results/rancho_s2a_2.nc')"
   ]
  },
  {
   "cell_type": "code",
   "execution_count": null,
   "id": "bb6ef1b9-4f6f-44e0-821e-a0a719393464",
   "metadata": {},
   "outputs": [],
   "source": []
  }
 ],
 "metadata": {
  "kernelspec": {
   "display_name": "rs_playground",
   "language": "python",
   "name": "rs_playground"
  },
  "language_info": {
   "codemirror_mode": {
    "name": "ipython",
    "version": 3
   },
   "file_extension": ".py",
   "mimetype": "text/x-python",
   "name": "python",
   "nbconvert_exporter": "python",
   "pygments_lexer": "ipython3",
   "version": "3.12.4"
  }
 },
 "nbformat": 4,
 "nbformat_minor": 5
}
